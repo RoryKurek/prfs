{
 "cells": [
  {
   "cell_type": "markdown",
   "metadata": {},
   "source": [
    "***Bernouli's Equation***"
   ]
  },
  {
   "cell_type": "markdown",
   "metadata": {},
   "source": [
    "$$\n",
    "g (z_1 - z_0) + \\frac{P_1 - P_0}{\\rho_0} + \\frac{v_1^2 - v_0^2}{2} + \\left( f_0 \\frac{L}{D} + \\sum K \\right) \\frac{v_0^2}{2} = 0\n",
    "$$"
   ]
  },
  {
   "cell_type": "markdown",
   "metadata": {},
   "source": [
    "**Constant Stagnation Enthalpy**"
   ]
  },
  {
   "cell_type": "markdown",
   "metadata": {},
   "source": [
    "$$\n",
    "h_1 - h_0 + \\frac{v_1^2 - v_0^2}{2} = 0\n",
    "$$"
   ]
  },
  {
   "cell_type": "code",
   "execution_count": 1,
   "metadata": {},
   "outputs": [],
   "source": [
    "import thermo as th\n",
    "import thermo.interaction_parameters as ip\n",
    "import fluids as fl\n",
    "from math import sqrt, pi\n",
    "import numpy as np\n",
    "from scipy.optimize import root"
   ]
  },
  {
   "cell_type": "code",
   "execution_count": 2,
   "metadata": {},
   "outputs": [],
   "source": [
    "g = 9.81"
   ]
  },
  {
   "cell_type": "code",
   "execution_count": 3,
   "metadata": {},
   "outputs": [],
   "source": [
    "constants, properties = th.ChemicalConstantsPackage.from_IDs(['methane', 'ethane'])"
   ]
  },
  {
   "cell_type": "code",
   "execution_count": 4,
   "metadata": {},
   "outputs": [],
   "source": [
    "kijs = ip.IPDB.get_ip_asymmetric_matrix('ChemSep PR', constants.CASs, 'kij')"
   ]
  },
  {
   "cell_type": "code",
   "execution_count": 5,
   "metadata": {},
   "outputs": [],
   "source": [
    "eos_kwargs = {'Pcs': constants.Pcs, 'Tcs': constants.Tcs, 'omegas': constants.omegas, 'kijs': kijs}"
   ]
  },
  {
   "cell_type": "code",
   "execution_count": 6,
   "metadata": {},
   "outputs": [],
   "source": [
    "gas = th.CEOSGas(th.PRMIX, eos_kwargs, HeatCapacityGases=properties.HeatCapacityGases)\n",
    "liquid = th.CEOSLiquid(th.PRMIX, eos_kwargs, HeatCapacityGases=properties.HeatCapacityGases)"
   ]
  },
  {
   "cell_type": "code",
   "execution_count": 7,
   "metadata": {},
   "outputs": [],
   "source": [
    "flasher = th.FlashVL(constants, properties, liquid=liquid, gas=gas)"
   ]
  },
  {
   "cell_type": "code",
   "execution_count": 22,
   "metadata": {},
   "outputs": [],
   "source": [
    "T0 = 300.0\n",
    "P0 = 1e5\n",
    "zs = [0.5, 0.5]\n",
    "m = 10.0\n",
    "L = 100.0\n",
    "D = 0.1667\n",
    "K = 4.0\n",
    "dz = 0.0\n",
    "state0 = flasher.flash(T=T0, P=P0, zs=zs)"
   ]
  },
  {
   "cell_type": "code",
   "execution_count": 13,
   "metadata": {},
   "outputs": [],
   "source": [
    "def dp_const_stag_H_segment(state0, m, D, L=0.0, eD=6e-5, K=0.0, dz=0.0):\n",
    "    def func(vec):\n",
    "        T1, P1 = vec\n",
    "        \n",
    "        # Flash the incoming fluid to the specified downstream conditions T1, P1\n",
    "        state1 = state0.flasher.flash(T=T1, P=P1, zs=state0.zs)\n",
    "        \n",
    "        # Calculate various properties at the inlet and outlet\n",
    "        v0 = m / state0.rho_mass() * 4 / pi / D / D\n",
    "        v1 = m / state1.rho_mass() * 4 / pi / D / D\n",
    "        h0 = state0.H_mass()\n",
    "        h1 = state1.H_mass()\n",
    "        rho0 = state0.rho_mass()\n",
    "        rho1 = state1.rho_mass()\n",
    "        mu0 = state0.mu()\n",
    "        \n",
    "        Re0 = fl.Reynolds(V=v0, D=D, rho=rho0, mu=mu0)\n",
    "        f0 = fl.friction.friction_factor(Re=Re0, eD=eD)\n",
    "        \n",
    "        # Return the values of the root equations for Bernoulli's and the constant stagnation enthalpy equation\n",
    "        return [g * dz + (P1 - state0.P) / rho0 + (v1 ** 2 - v0 ** 2) / 2 + (f0 * L / D + K) * (v0 ** 2) / 2,\n",
    "                h1 - h0 + (v1 ** 2 - v0 ** 2) / 2]\n",
    "    \n",
    "    return root(func, [state0.T, state0.P])"
   ]
  },
  {
   "cell_type": "code",
   "execution_count": 21,
   "metadata": {},
   "outputs": [
    {
     "data": {
      "text/plain": [
       "array([  300.        , 99999.99999968])"
      ]
     },
     "execution_count": 21,
     "metadata": {},
     "output_type": "execute_result"
    }
   ],
   "source": [
    "dp_const_stag_H_segment(state0, m, L, D, K, dz).x"
   ]
  },
  {
   "cell_type": "code",
   "execution_count": null,
   "metadata": {},
   "outputs": [],
   "source": [
    "timeit(dp_const_stag_H(state0, m, L, D, K, dz))"
   ]
  },
  {
   "cell_type": "code",
   "execution_count": 25,
   "metadata": {},
   "outputs": [],
   "source": [
    "import pandas as pd\n",
    "import numpy as np"
   ]
  },
  {
   "cell_type": "code",
   "execution_count": 26,
   "metadata": {},
   "outputs": [
    {
     "data": {
      "text/html": [
       "<div>\n",
       "<style scoped>\n",
       "    .dataframe tbody tr th:only-of-type {\n",
       "        vertical-align: middle;\n",
       "    }\n",
       "\n",
       "    .dataframe tbody tr th {\n",
       "        vertical-align: top;\n",
       "    }\n",
       "\n",
       "    .dataframe thead th {\n",
       "        text-align: right;\n",
       "    }\n",
       "</style>\n",
       "<table border=\"1\" class=\"dataframe\">\n",
       "  <thead>\n",
       "    <tr style=\"text-align: right;\">\n",
       "      <th></th>\n",
       "      <th>name</th>\n",
       "      <th>D</th>\n",
       "      <th>L</th>\n",
       "      <th>eD</th>\n",
       "      <th>K</th>\n",
       "      <th>dz</th>\n",
       "    </tr>\n",
       "  </thead>\n",
       "  <tbody>\n",
       "    <tr>\n",
       "      <th>0</th>\n",
       "      <td>pipe</td>\n",
       "      <td>0.1667</td>\n",
       "      <td>5.0</td>\n",
       "      <td>0.000002</td>\n",
       "      <td>0.0</td>\n",
       "      <td>0.0</td>\n",
       "    </tr>\n",
       "    <tr>\n",
       "      <th>1</th>\n",
       "      <td>valve</td>\n",
       "      <td>0.1667</td>\n",
       "      <td>0.0</td>\n",
       "      <td>0.000002</td>\n",
       "      <td>1.3</td>\n",
       "      <td>0.0</td>\n",
       "    </tr>\n",
       "    <tr>\n",
       "      <th>2</th>\n",
       "      <td>pipe</td>\n",
       "      <td>0.1667</td>\n",
       "      <td>5.0</td>\n",
       "      <td>0.000002</td>\n",
       "      <td>0.0</td>\n",
       "      <td>5.0</td>\n",
       "    </tr>\n",
       "  </tbody>\n",
       "</table>\n",
       "</div>"
      ],
      "text/plain": [
       "    name       D    L        eD    K   dz\n",
       "0   pipe  0.1667  5.0  0.000002  0.0  0.0\n",
       "1  valve  0.1667  0.0  0.000002  1.3  0.0\n",
       "2   pipe  0.1667  5.0  0.000002  0.0  5.0"
      ]
     },
     "execution_count": 26,
     "metadata": {},
     "output_type": "execute_result"
    }
   ],
   "source": [
    "layout = pd.read_csv('piping.csv')\n",
    "layout"
   ]
  },
  {
   "cell_type": "code",
   "execution_count": 23,
   "metadata": {},
   "outputs": [],
   "source": [
    "def dp_const_stag_H_layout(state0, m, layout):\n",
    "    layout['P_in'] = np.ones(3) * np.NAN\n",
    "    layout['P_out'] = np.ones(3) * np.NAN\n",
    "    layout['T_in'] = np.ones(3) * np.NAN\n",
    "    layout['T_out'] = np.ones(3) * np.NAN\n",
    "    state = state0\n",
    "    for segment in layout.itertuples():\n",
    "        segment['P_in'] = state.P\n",
    "        segment['T_in'] = state.T\n",
    "        T_out, P_out = dp_const_stag_H_segment(state, m=m, D=segment['D'], L=segment['L'], eD=segment['eD'], K=segment['K'], dz=segment['dz'])\n",
    "        segment['P_out'] = P_out\n",
    "        segment['T_out'] = T_out\n",
    "        state = state.flasher.flash(P=P_out, T=T_out, zs=state.zs)"
   ]
  },
  {
   "cell_type": "code",
   "execution_count": 27,
   "metadata": {},
   "outputs": [
    {
     "ename": "TypeError",
     "evalue": "'Pandas' object does not support item assignment",
     "output_type": "error",
     "traceback": [
      "\u001b[1;31m---------------------------------------------------------------------------\u001b[0m",
      "\u001b[1;31mTypeError\u001b[0m                                 Traceback (most recent call last)",
      "\u001b[1;32m<ipython-input-27-d44052e0cc50>\u001b[0m in \u001b[0;36m<module>\u001b[1;34m\u001b[0m\n\u001b[1;32m----> 1\u001b[1;33m \u001b[0mdp_const_stag_H_layout\u001b[0m\u001b[1;33m(\u001b[0m\u001b[0mstate0\u001b[0m\u001b[1;33m,\u001b[0m \u001b[0mm\u001b[0m\u001b[1;33m,\u001b[0m \u001b[0mlayout\u001b[0m\u001b[1;33m)\u001b[0m\u001b[1;33m\u001b[0m\u001b[1;33m\u001b[0m\u001b[0m\n\u001b[0m",
      "\u001b[1;32m<ipython-input-23-b114d674d8e5>\u001b[0m in \u001b[0;36mdp_const_stag_H_layout\u001b[1;34m(state0, m, layout)\u001b[0m\n\u001b[0;32m      6\u001b[0m     \u001b[0mstate\u001b[0m \u001b[1;33m=\u001b[0m \u001b[0mstate0\u001b[0m\u001b[1;33m\u001b[0m\u001b[1;33m\u001b[0m\u001b[0m\n\u001b[0;32m      7\u001b[0m     \u001b[1;32mfor\u001b[0m \u001b[0msegment\u001b[0m \u001b[1;32min\u001b[0m \u001b[0mlayout\u001b[0m\u001b[1;33m.\u001b[0m\u001b[0mitertuples\u001b[0m\u001b[1;33m(\u001b[0m\u001b[1;33m)\u001b[0m\u001b[1;33m:\u001b[0m\u001b[1;33m\u001b[0m\u001b[1;33m\u001b[0m\u001b[0m\n\u001b[1;32m----> 8\u001b[1;33m         \u001b[0msegment\u001b[0m\u001b[1;33m[\u001b[0m\u001b[1;34m'P_in'\u001b[0m\u001b[1;33m]\u001b[0m \u001b[1;33m=\u001b[0m \u001b[0mstate\u001b[0m\u001b[1;33m.\u001b[0m\u001b[0mP\u001b[0m\u001b[1;33m\u001b[0m\u001b[1;33m\u001b[0m\u001b[0m\n\u001b[0m\u001b[0;32m      9\u001b[0m         \u001b[0msegment\u001b[0m\u001b[1;33m[\u001b[0m\u001b[1;34m'T_in'\u001b[0m\u001b[1;33m]\u001b[0m \u001b[1;33m=\u001b[0m \u001b[0mstate\u001b[0m\u001b[1;33m.\u001b[0m\u001b[0mT\u001b[0m\u001b[1;33m\u001b[0m\u001b[1;33m\u001b[0m\u001b[0m\n\u001b[0;32m     10\u001b[0m         \u001b[0mT_out\u001b[0m\u001b[1;33m,\u001b[0m \u001b[0mP_out\u001b[0m \u001b[1;33m=\u001b[0m \u001b[0mdp_const_stag_H_segment\u001b[0m\u001b[1;33m(\u001b[0m\u001b[0mstate\u001b[0m\u001b[1;33m,\u001b[0m \u001b[0mm\u001b[0m\u001b[1;33m=\u001b[0m\u001b[0mm\u001b[0m\u001b[1;33m,\u001b[0m \u001b[0mD\u001b[0m\u001b[1;33m=\u001b[0m\u001b[0msegment\u001b[0m\u001b[1;33m[\u001b[0m\u001b[1;34m'D'\u001b[0m\u001b[1;33m]\u001b[0m\u001b[1;33m,\u001b[0m \u001b[0mL\u001b[0m\u001b[1;33m=\u001b[0m\u001b[0msegment\u001b[0m\u001b[1;33m[\u001b[0m\u001b[1;34m'L'\u001b[0m\u001b[1;33m]\u001b[0m\u001b[1;33m,\u001b[0m \u001b[0meD\u001b[0m\u001b[1;33m=\u001b[0m\u001b[0msegment\u001b[0m\u001b[1;33m[\u001b[0m\u001b[1;34m'eD'\u001b[0m\u001b[1;33m]\u001b[0m\u001b[1;33m,\u001b[0m \u001b[0mK\u001b[0m\u001b[1;33m=\u001b[0m\u001b[0msegment\u001b[0m\u001b[1;33m[\u001b[0m\u001b[1;34m'K'\u001b[0m\u001b[1;33m]\u001b[0m\u001b[1;33m,\u001b[0m \u001b[0mdz\u001b[0m\u001b[1;33m=\u001b[0m\u001b[0msegment\u001b[0m\u001b[1;33m[\u001b[0m\u001b[1;34m'dz'\u001b[0m\u001b[1;33m]\u001b[0m\u001b[1;33m)\u001b[0m\u001b[1;33m\u001b[0m\u001b[1;33m\u001b[0m\u001b[0m\n",
      "\u001b[1;31mTypeError\u001b[0m: 'Pandas' object does not support item assignment"
     ]
    }
   ],
   "source": [
    "dp_const_stag_H_layout(state0, m, layout)"
   ]
  },
  {
   "cell_type": "code",
   "execution_count": null,
   "metadata": {},
   "outputs": [],
   "source": []
  }
 ],
 "metadata": {
  "kernelspec": {
   "display_name": "Python 3",
   "language": "python",
   "name": "python3"
  },
  "language_info": {
   "codemirror_mode": {
    "name": "ipython",
    "version": 3
   },
   "file_extension": ".py",
   "mimetype": "text/x-python",
   "name": "python",
   "nbconvert_exporter": "python",
   "pygments_lexer": "ipython3",
   "version": "3.8.8"
  }
 },
 "nbformat": 4,
 "nbformat_minor": 4
}
