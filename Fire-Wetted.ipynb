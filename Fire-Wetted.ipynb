{
 "cells": [
  {
   "cell_type": "code",
   "execution_count": 10,
   "id": "cceaf88e",
   "metadata": {},
   "outputs": [],
   "source": [
    "import thermo as th\n",
    "import thermo.interaction_parameters as ip\n",
    "import numpy as np\n",
    "import pandas as pd"
   ]
  },
  {
   "cell_type": "code",
   "execution_count": 11,
   "id": "a9974326",
   "metadata": {},
   "outputs": [],
   "source": [
    "def create_VL_flasher(names: list) -> th.flash.FlashVL:\n",
    "    # Look up chemical constants/properties from database\n",
    "    constants, properties = th.ChemicalConstantsPackage.from_IDs(names)\n",
    "\n",
    "    # Look up binary interaction parameters from database\n",
    "    kijs = ip.IPDB.get_ip_asymmetric_matrix('ChemSep PR', constants.CASs, 'kij')\n",
    "\n",
    "    eos_kwargs = {'Pcs': constants.Pcs, 'Tcs': constants.Tcs,\n",
    "                  'omegas': constants.omegas, 'kijs': kijs}\n",
    "\n",
    "    # Create individual gas and liquid phase EOSs\n",
    "    gas = th.CEOSGas(th.PRMIX, eos_kwargs,\n",
    "                     HeatCapacityGases=properties.HeatCapacityGases)\n",
    "    liquid = th.CEOSLiquid(th.PRMIX, eos_kwargs,\n",
    "                           HeatCapacityGases=properties.HeatCapacityGases)\n",
    "\n",
    "    # Create VL flasher\n",
    "    return th.FlashVL(constants, properties, liquid=liquid, gas=gas)"
   ]
  },
  {
   "cell_type": "code",
   "execution_count": 12,
   "id": "85cd9c65",
   "metadata": {},
   "outputs": [],
   "source": [
    "flasher = create_VL_flasher(['methane', 'ethane', 'propane'])"
   ]
  },
  {
   "cell_type": "code",
   "execution_count": 13,
   "id": "59df3f6a",
   "metadata": {},
   "outputs": [],
   "source": [
    "P_rel = 1e6 #Pa\n",
    "zs = [0.1, 0.4, 0.5]\n",
    "num_points = 25"
   ]
  },
  {
   "cell_type": "code",
   "execution_count": 14,
   "id": "b9026284",
   "metadata": {},
   "outputs": [],
   "source": [
    "data = pd.DataFrame(np.linspace(flasher.flash(P=P_rel, VF=0, zs=zs).T,\n",
    "                                flasher.flash(P=P_rel, VF=1, zs=zs).T,\n",
    "                                num_points), \n",
    "                    columns=['T (K)'])"
   ]
  },
  {
   "cell_type": "code",
   "execution_count": 15,
   "id": "ce4bff4b",
   "metadata": {},
   "outputs": [],
   "source": [
    "@np.vectorize\n",
    "def find_props(T):\n",
    "    state = flasher.flash(P=P_rel, T=T, zs=zs)\n",
    "    return state.VF, state.H()"
   ]
  },
  {
   "cell_type": "code",
   "execution_count": 24,
   "id": "00d2cac7",
   "metadata": {},
   "outputs": [
    {
     "data": {
      "text/html": [
       "<div>\n",
       "<style scoped>\n",
       "    .dataframe tbody tr th:only-of-type {\n",
       "        vertical-align: middle;\n",
       "    }\n",
       "\n",
       "    .dataframe tbody tr th {\n",
       "        vertical-align: top;\n",
       "    }\n",
       "\n",
       "    .dataframe thead th {\n",
       "        text-align: right;\n",
       "    }\n",
       "</style>\n",
       "<table border=\"1\" class=\"dataframe\">\n",
       "  <thead>\n",
       "    <tr style=\"text-align: right;\">\n",
       "      <th></th>\n",
       "      <th>T (K)</th>\n",
       "      <th>VF (molar)</th>\n",
       "      <th>H (J/mol)</th>\n",
       "      <th>H_Added (J/mol)</th>\n",
       "    </tr>\n",
       "  </thead>\n",
       "  <tbody>\n",
       "    <tr>\n",
       "      <th>0</th>\n",
       "      <td>221.092445</td>\n",
       "      <td>1.691927e-11</td>\n",
       "      <td>-19875.165253</td>\n",
       "      <td>0.000000</td>\n",
       "    </tr>\n",
       "    <tr>\n",
       "      <th>1</th>\n",
       "      <td>223.480092</td>\n",
       "      <td>1.040005e-02</td>\n",
       "      <td>-19595.269669</td>\n",
       "      <td>279.895584</td>\n",
       "    </tr>\n",
       "    <tr>\n",
       "      <th>2</th>\n",
       "      <td>225.867740</td>\n",
       "      <td>2.108049e-02</td>\n",
       "      <td>-19308.578729</td>\n",
       "      <td>566.586525</td>\n",
       "    </tr>\n",
       "    <tr>\n",
       "      <th>3</th>\n",
       "      <td>228.255387</td>\n",
       "      <td>3.219052e-02</td>\n",
       "      <td>-19013.380142</td>\n",
       "      <td>861.785111</td>\n",
       "    </tr>\n",
       "    <tr>\n",
       "      <th>4</th>\n",
       "      <td>230.643035</td>\n",
       "      <td>4.389804e-02</td>\n",
       "      <td>-18707.690524</td>\n",
       "      <td>1167.474730</td>\n",
       "    </tr>\n",
       "  </tbody>\n",
       "</table>\n",
       "</div>"
      ],
      "text/plain": [
       "        T (K)    VF (molar)     H (J/mol)  H_Added (J/mol)\n",
       "0  221.092445  1.691927e-11 -19875.165253         0.000000\n",
       "1  223.480092  1.040005e-02 -19595.269669       279.895584\n",
       "2  225.867740  2.108049e-02 -19308.578729       566.586525\n",
       "3  228.255387  3.219052e-02 -19013.380142       861.785111\n",
       "4  230.643035  4.389804e-02 -18707.690524      1167.474730"
      ]
     },
     "execution_count": 24,
     "metadata": {},
     "output_type": "execute_result"
    }
   ],
   "source": [
    "data['VF (molar)'], data['H (J/mol)'] = find_props(data['T (K)'])\n",
    "data['H_Added (J/mol)'] = data['H (J/mol)'] - data['H (J/mol)'][0]\n",
    "data.head()"
   ]
  },
  {
   "cell_type": "code",
   "execution_count": 17,
   "id": "f55c85d8",
   "metadata": {},
   "outputs": [
    {
     "data": {
      "text/plain": [
       "<AxesSubplot:xlabel='VF (molar)'>"
      ]
     },
     "execution_count": 17,
     "metadata": {},
     "output_type": "execute_result"
    },
    {
     "data": {
      "image/png": "[encoded data removed]",
      "text/plain": [
       "<Figure size 432x288 with 1 Axes>"
      ]
     },
     "metadata": {
      "needs_background": "light"
     },
     "output_type": "display_data"
    }
   ],
   "source": [
    "data.plot(x='VF (molar)', y='T (K)')"
   ]
  },
  {
   "cell_type": "code",
   "execution_count": 23,
   "id": "720da34a",
   "metadata": {},
   "outputs": [
    {
     "data": {
      "text/plain": [
       "<AxesSubplot:xlabel='VF (molar)'>"
      ]
     },
     "execution_count": 23,
     "metadata": {},
     "output_type": "execute_result"
    },
    {
     "data": {
      "image/png": "[encoded data removed]",
      "text/plain": [
       "<Figure size 432x288 with 1 Axes>"
      ]
     },
     "metadata": {
      "needs_background": "light"
     },
     "output_type": "display_data"
    }
   ],
   "source": [
    "data.plot(x='VF (molar)', y='H_Added (J/mol)')"
   ]
  },
  {
   "cell_type": "code",
   "execution_count": 28,
   "id": "7d800582",
   "metadata": {},
   "outputs": [
    {
     "data": {
      "text/plain": [
       "<AxesSubplot:xlabel='VF (molar)'>"
      ]
     },
     "execution_count": 28,
     "metadata": {},
     "output_type": "execute_result"
    },
    {
     "data": {
      "image/png": "[encoded data removed]",
      "text/plain": [
       "<Figure size 432x288 with 1 Axes>"
      ]
     },
     "metadata": {
      "needs_background": "light"
     },
     "output_type": "display_data"
    }
   ],
   "source": [
    "data['H per mol vapor (J/mol)'] = data['H_Added (J/mol)'] / data['VF (molar)']\n",
    "data[1:].plot(x='VF (molar)', y='H per mol vapor (J/mol)')"
   ]
  },
  {
   "cell_type": "code",
   "execution_count": 29,
   "id": "7f5ffbe3",
   "metadata": {},
   "outputs": [
    {
     "name": "stdout",
     "output_type": "stream",
     "text": [
      "67.9 ms ± 2.59 ms per loop (mean ± std. dev. of 7 runs, 10 loops each)\n"
     ]
    }
   ],
   "source": [
    "timeit(find_props(data['T (K)']))"
   ]
  },
  {
   "cell_type": "code",
   "execution_count": null,
   "id": "f1aa89fb",
   "metadata": {},
   "outputs": [],
   "source": []
  }
 ],
 "metadata": {
  "kernelspec": {
   "display_name": "Python 3",
   "language": "python",
   "name": "python3"
  },
  "language_info": {
   "codemirror_mode": {
    "name": "ipython",
    "version": 3
   },
   "file_extension": ".py",
   "mimetype": "text/x-python",
   "name": "python",
   "nbconvert_exporter": "python",
   "pygments_lexer": "ipython3",
   "version": "3.8.8"
  }
 },
 "nbformat": 4,
 "nbformat_minor": 5
}
